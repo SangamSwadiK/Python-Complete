{
 "cells": [
  {
   "cell_type": "markdown",
   "metadata": {},
   "source": [
    "* Python Type Hierarchy \n",
    "* Multi-Line Statements and Strings\n",
    "* Naming Conventions\n",
    "* Conditionals\n",
    "* Functions\n",
    "* Loops  \n",
    " * While, For, Break , Continue."
   ]
  },
  {
   "cell_type": "markdown",
   "metadata": {},
   "source": [
    "#### Python Type Heirarchy"
   ]
  },
  {
   "cell_type": "code",
   "execution_count": 1,
   "metadata": {},
   "outputs": [],
   "source": [
    "#Numbers are divided into integral and non-integram numbers\n",
    "\n",
    "#Under integral, we have\n",
    "#integers and booleans\n",
    "\n",
    "# Under Non-integral numbers we have\n",
    "# Floats (C-doubles)\n",
    "#Complex\n",
    "# Decimals\n",
    "#Fractions"
   ]
  },
  {
   "cell_type": "code",
   "execution_count": 2,
   "metadata": {},
   "outputs": [],
   "source": [
    "#  Collections\n",
    "\n",
    "# Braodly divided into \n",
    "\n",
    "# 1) Sequences , 2) Sets and 3) Mappings\n",
    "\n",
    "#Under Sequences we have \n",
    "#Mutable and Immutable\n",
    "# Under mutable : Lists\n",
    "#Under immutable : Tuples and Strings\n",
    "\n",
    "#Under Sets we have\n",
    "#UnderMutable: Sets\n",
    "#Under immutable : Frozen sets\n",
    "\n",
    "\n",
    "# Under Mappings , we have:\n",
    "# Dictionaries\n"
   ]
  },
  {
   "cell_type": "code",
   "execution_count": 4,
   "metadata": {},
   "outputs": [],
   "source": [
    "# Callables\n",
    "\n",
    "# These are anything that can be invoked eg: user defined functions\n",
    "\n",
    "#User-Definied Functions\n",
    "#Generators\n",
    "#Classes\n",
    "#Instance Methods\n",
    "#Class instances  (__call__())\n",
    "#Built in functions (eg: len())\n",
    "#Built in methods (eg: my_list.append(x))\n",
    "\n",
    "\n",
    "##Single\n",
    "#None\n",
    "#NotImplemented\n",
    "#Ellipsis (...) operator!"
   ]
  },
  {
   "cell_type": "markdown",
   "metadata": {},
   "source": [
    "## Multiline Statements and Strings"
   ]
  },
  {
   "cell_type": "code",
   "execution_count": 5,
   "metadata": {},
   "outputs": [],
   "source": [
    "# A python Program \n",
    "#  ------- Physical lines of code           (End with a physical newline character)\n",
    "#        --------- Logical lines of code       ( end with a logical newline token)\n",
    "#             ------- tokenised"
   ]
  },
  {
   "cell_type": "markdown",
   "metadata": {},
   "source": [
    "physical newline vs logical newline\n",
    "sometimes, physical newlines are ignored\n",
    "in order to combine multiple physical lines\n",
    "into a single logical line of code\n",
    "terminated by a logical NEWLINE token"
   ]
  },
  {
   "cell_type": "code",
   "execution_count": 6,
   "metadata": {},
   "outputs": [],
   "source": [
    "# The Conversion can be implicit or explicit"
   ]
  },
  {
   "cell_type": "code",
   "execution_count": 7,
   "metadata": {},
   "outputs": [
    {
     "data": {
      "text/plain": [
       "[1, 2, 3]"
      ]
     },
     "execution_count": 7,
     "metadata": {},
     "output_type": "execute_result"
    }
   ],
   "source": [
    "#Implicit\n",
    "\n",
    "#Expressions in \n",
    "# lists []\n",
    "\n",
    "#eg: (or say you have nested structures (list within dict))\n",
    "[1,  #can include inline comments \n",
    "  2, # comment 2\n",
    "  3] # comment 3\n",
    "\n",
    "# tuples : ()\n",
    "# dictionary {}\n",
    "# function arguments / parameters\n",
    "\n",
    "#eg: \n",
    "    \n",
    "    #def my_func(a,\n",
    "    #                        b,  #comment\n",
    "    #                        c):\n",
    "           #print(a,b,c)"
   ]
  },
  {
   "cell_type": "code",
   "execution_count": 8,
   "metadata": {},
   "outputs": [],
   "source": [
    "#Explicit !!\n",
    "\n",
    "#you can break up statements over multiple lines explictily, by using a \" \\ \" (backlash) character\n",
    "#Multiline Statements are not implicitly converted to a single logical line.\n",
    "\n",
    "#eg: This wont work\n",
    "    #if a \n",
    "    #   and b\n",
    "     #   and c :\n",
    "        \n",
    "#Do it this way, here comment cannot be part of the statement!\n",
    "# if a \\\n",
    "#    and b \\\n",
    "#    and c: \n",
    "\n",
    "# but In the above we cannot add comments !!\n",
    "        "
   ]
  },
  {
   "cell_type": "code",
   "execution_count": null,
   "metadata": {},
   "outputs": [],
   "source": []
  },
  {
   "cell_type": "code",
   "execution_count": null,
   "metadata": {},
   "outputs": [],
   "source": []
  },
  {
   "cell_type": "code",
   "execution_count": null,
   "metadata": {},
   "outputs": [],
   "source": []
  },
  {
   "cell_type": "code",
   "execution_count": null,
   "metadata": {},
   "outputs": [],
   "source": []
  },
  {
   "cell_type": "code",
   "execution_count": null,
   "metadata": {},
   "outputs": [],
   "source": []
  },
  {
   "cell_type": "code",
   "execution_count": null,
   "metadata": {},
   "outputs": [],
   "source": []
  }
 ],
 "metadata": {
  "kernelspec": {
   "display_name": "Python 3",
   "language": "python",
   "name": "python3"
  },
  "language_info": {
   "codemirror_mode": {
    "name": "ipython",
    "version": 3
   },
   "file_extension": ".py",
   "mimetype": "text/x-python",
   "name": "python",
   "nbconvert_exporter": "python",
   "pygments_lexer": "ipython3",
   "version": "3.6.5"
  }
 },
 "nbformat": 4,
 "nbformat_minor": 2
}
