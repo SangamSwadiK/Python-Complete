{
 "cells": [
  {
   "cell_type": "markdown",
   "metadata": {},
   "source": [
    "* Python Type Hierarchy \n",
    "* Multi-Line Statements and Strings\n",
    "* Naming Conventions\n",
    "* Conditionals\n",
    "* Functions\n",
    "* Loops  \n",
    " * While, For, Break , Continue."
   ]
  },
  {
   "cell_type": "markdown",
   "metadata": {},
   "source": [
    "#### Python Type Heirarchy"
   ]
  },
  {
   "cell_type": "code",
   "execution_count": 1,
   "metadata": {},
   "outputs": [],
   "source": [
    "#Numbers are divided into integral and non-integram numbers\n",
    "\n",
    "#Under integral, we have\n",
    "#integers and booleans\n",
    "\n",
    "# Under Non-integral numbers we have\n",
    "# Floats (C-doubles)\n",
    "#Complex\n",
    "# Decimals\n",
    "#Fractions"
   ]
  },
  {
   "cell_type": "code",
   "execution_count": 2,
   "metadata": {},
   "outputs": [],
   "source": [
    "#  Collections\n",
    "\n",
    "# Braodly divided into \n",
    "\n",
    "# 1) Sequences , 2) Sets and 3) Mappings\n",
    "\n",
    "#Under Sequences we have \n",
    "#Mutable and Immutable\n",
    "# Under mutable : Lists\n",
    "#Under immutable : Tuples and Strings\n",
    "\n",
    "#Under Sets we have\n",
    "#UnderMutable: Sets\n",
    "#Under immutable : Frozen sets\n",
    "\n",
    "\n",
    "# Under Mappings , we have:\n",
    "# Dictionaries\n"
   ]
  },
  {
   "cell_type": "code",
   "execution_count": 4,
   "metadata": {},
   "outputs": [],
   "source": [
    "# Callables\n",
    "\n",
    "# These are anything that can be invoked eg: user defined functions\n",
    "\n",
    "#User-Definied Functions\n",
    "#Generators\n",
    "#Classes\n",
    "#Instance Methods\n",
    "#Class instances  (__call__())\n",
    "#Built in functions (eg: len())\n",
    "#Built in methods (eg: my_list.append(x))\n",
    "\n",
    "\n",
    "##Single\n",
    "#None\n",
    "#NotImplemented\n",
    "#Ellipsis (...) operator!"
   ]
  },
  {
   "cell_type": "code",
   "execution_count": null,
   "metadata": {},
   "outputs": [],
   "source": []
  },
  {
   "cell_type": "code",
   "execution_count": null,
   "metadata": {},
   "outputs": [],
   "source": []
  },
  {
   "cell_type": "code",
   "execution_count": null,
   "metadata": {},
   "outputs": [],
   "source": []
  },
  {
   "cell_type": "code",
   "execution_count": null,
   "metadata": {},
   "outputs": [],
   "source": []
  },
  {
   "cell_type": "code",
   "execution_count": null,
   "metadata": {},
   "outputs": [],
   "source": []
  },
  {
   "cell_type": "code",
   "execution_count": null,
   "metadata": {},
   "outputs": [],
   "source": []
  },
  {
   "cell_type": "code",
   "execution_count": null,
   "metadata": {},
   "outputs": [],
   "source": []
  },
  {
   "cell_type": "code",
   "execution_count": null,
   "metadata": {},
   "outputs": [],
   "source": []
  },
  {
   "cell_type": "code",
   "execution_count": null,
   "metadata": {},
   "outputs": [],
   "source": []
  },
  {
   "cell_type": "code",
   "execution_count": null,
   "metadata": {},
   "outputs": [],
   "source": []
  },
  {
   "cell_type": "code",
   "execution_count": null,
   "metadata": {},
   "outputs": [],
   "source": []
  },
  {
   "cell_type": "code",
   "execution_count": null,
   "metadata": {},
   "outputs": [],
   "source": []
  }
 ],
 "metadata": {
  "kernelspec": {
   "display_name": "Python 3",
   "language": "python",
   "name": "python3"
  },
  "language_info": {
   "codemirror_mode": {
    "name": "ipython",
    "version": 3
   },
   "file_extension": ".py",
   "mimetype": "text/x-python",
   "name": "python",
   "nbconvert_exporter": "python",
   "pygments_lexer": "ipython3",
   "version": "3.6.5"
  }
 },
 "nbformat": 4,
 "nbformat_minor": 2
}
