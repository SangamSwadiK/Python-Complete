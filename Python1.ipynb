{
 "cells": [
  {
   "cell_type": "markdown",
   "metadata": {},
   "source": [
    "* Python Type Hierarchy \n",
    "* Multi-Line Statements and Strings\n",
    "* Naming Conventions\n",
    "* Conditionals\n",
    "* Functions\n",
    "* Loops  \n",
    " * While, For, Break , Continue."
   ]
  },
  {
   "cell_type": "markdown",
   "metadata": {},
   "source": [
    "#### Python Type Heirarchy"
   ]
  },
  {
   "cell_type": "code",
   "execution_count": 1,
   "metadata": {},
   "outputs": [],
   "source": [
    "#Numbers are divided into integral and non-integram numbers\n",
    "\n",
    "#Under integral, we have\n",
    "#integers and booleans\n",
    "\n",
    "# Under Non-integral numbers we have\n",
    "# Floats (C-doubles)\n",
    "#Complex\n",
    "# Decimals\n",
    "#Fractions"
   ]
  },
  {
   "cell_type": "code",
   "execution_count": 2,
   "metadata": {},
   "outputs": [],
   "source": [
    "#  Collections\n",
    "\n",
    "# Braodly divided into \n",
    "\n",
    "# 1) Sequences , 2) Sets and 3) Mappings\n",
    "\n",
    "#Under Sequences we have \n",
    "#Mutable and Immutable\n",
    "# Under mutable : Lists\n",
    "#Under immutable : Tuples and Strings\n",
    "\n",
    "#Under Sets we have\n",
    "#UnderMutable: Sets\n",
    "#Under immutable : Frozen sets\n",
    "\n",
    "\n",
    "# Under Mappings , we have:\n",
    "# Dictionaries\n"
   ]
  },
  {
   "cell_type": "code",
   "execution_count": 4,
   "metadata": {},
   "outputs": [],
   "source": [
    "# Callables\n",
    "\n",
    "# These are anything that can be invoked eg: user defined functions\n",
    "\n",
    "#User-Definied Functions\n",
    "#Generators\n",
    "#Classes\n",
    "#Instance Methods\n",
    "#Class instances  (__call__())\n",
    "#Built in functions (eg: len())\n",
    "#Built in methods (eg: my_list.append(x))\n",
    "\n",
    "\n",
    "##Single\n",
    "#None\n",
    "#NotImplemented\n",
    "#Ellipsis (...) operator!"
   ]
  },
  {
   "cell_type": "markdown",
   "metadata": {},
   "source": [
    "## Multiline Statements and Strings"
   ]
  },
  {
   "cell_type": "code",
   "execution_count": 5,
   "metadata": {},
   "outputs": [],
   "source": [
    "# A python Program \n",
    "#  ------- Physical lines of code           (End with a physical newline character)\n",
    "#        --------- Logical lines of code       ( end with a logical newline token)\n",
    "#             ------- tokenised"
   ]
  },
  {
   "cell_type": "markdown",
   "metadata": {},
   "source": [
    "physical newline vs logical newline\n",
    "sometimes, physical newlines are ignored\n",
    "in order to combine multiple physical lines\n",
    "into a single logical line of code\n",
    "terminated by a logical NEWLINE token"
   ]
  },
  {
   "cell_type": "code",
   "execution_count": 6,
   "metadata": {},
   "outputs": [],
   "source": [
    "# The Conversion can be implicit or explicit"
   ]
  },
  {
   "cell_type": "code",
   "execution_count": 7,
   "metadata": {},
   "outputs": [
    {
     "data": {
      "text/plain": [
       "[1, 2, 3]"
      ]
     },
     "execution_count": 7,
     "metadata": {},
     "output_type": "execute_result"
    }
   ],
   "source": [
    "#Implicit\n",
    "\n",
    "#Expressions in \n",
    "# lists []\n",
    "\n",
    "#eg: (or say you have nested structures (list within dict))\n",
    "[1,  #can include inline comments \n",
    "  2, # comment 2\n",
    "  3] # comment 3\n",
    "\n",
    "# tuples : ()\n",
    "# dictionary {}\n",
    "# function arguments / parameters\n",
    "\n",
    "#eg: \n",
    "    \n",
    "    #def my_func(a,\n",
    "    #                        b,  #comment\n",
    "    #                        c):\n",
    "           #print(a,b,c)"
   ]
  },
  {
   "cell_type": "code",
   "execution_count": 8,
   "metadata": {},
   "outputs": [],
   "source": [
    "#Explicit !!\n",
    "\n",
    "#you can break up statements over multiple lines explictily, by using a \" \\ \" (backlash) character\n",
    "#Multiline Statements are not implicitly converted to a single logical line.\n",
    "\n",
    "#eg: This wont work\n",
    "    #if a \n",
    "    #   and b\n",
    "     #   and c :\n",
    "        \n",
    "#Do it this way, here comment cannot be part of the statement!\n",
    "# if a \\\n",
    "#    and b \\\n",
    "#    and c: \n",
    "\n",
    "# but In the above we cannot add comments !!\n",
    "        "
   ]
  },
  {
   "cell_type": "code",
   "execution_count": 9,
   "metadata": {},
   "outputs": [
    {
     "data": {
      "text/plain": [
       "' Single \\n Mulit \\n line String'"
      ]
     },
     "execution_count": 9,
     "metadata": {},
     "output_type": "execute_result"
    }
   ],
   "source": [
    "# Multistring literals\n",
    "#Multi line string literals can be created using triple delimiters ('  single or \" double)\n",
    "\n",
    "''' Single \n",
    " Mulit \n",
    " line String'''\n"
   ]
  },
  {
   "cell_type": "code",
   "execution_count": 11,
   "metadata": {},
   "outputs": [
    {
     "data": {
      "text/plain": [
       "'Double\\nMulti\\nlIne String\\n'"
      ]
     },
     "execution_count": 11,
     "metadata": {},
     "output_type": "execute_result"
    }
   ],
   "source": [
    "\"\"\"Double\n",
    "Multi\n",
    "lIne String\n",
    "\"\"\"\n",
    "\n",
    "#Be aware that non-visible character such as newline, tabs are actually a part of the string \n",
    "# YOu can use escape characters (eg: \\n, \\t), use string formatting , etc:\n",
    "# A multi line string is just a regular string.\n",
    "#Multiline strings are not comments , although the can be used as such,\n",
    "#especially with special comments CALLED DOCSTRINGS!"
   ]
  },
  {
   "cell_type": "code",
   "execution_count": 13,
   "metadata": {},
   "outputs": [
    {
     "data": {
      "text/plain": [
       "[1, 2, 3]"
      ]
     },
     "execution_count": 13,
     "metadata": {},
     "output_type": "execute_result"
    }
   ],
   "source": [
    "a = [1, 2, 3]\n",
    "a"
   ]
  },
  {
   "cell_type": "code",
   "execution_count": 17,
   "metadata": {},
   "outputs": [
    {
     "name": "stdout",
     "output_type": "stream",
     "text": [
      "Comment was ignored for [1, 2, 3, 4, 5, 6]\n"
     ]
    }
   ],
   "source": [
    "a = [1, 2, 3,  # Three items here!\n",
    "       4, 5,  # We have two items in this line\n",
    "        6]\n",
    "a\n",
    "print(f'Comment was ignored for {a}')"
   ]
  },
  {
   "cell_type": "code",
   "execution_count": 22,
   "metadata": {},
   "outputs": [
    {
     "name": "stdout",
     "output_type": "stream",
     "text": [
      "Comment was ignored for (231, 2)\n"
     ]
    }
   ],
   "source": [
    "a = (231, # 1 tuple element\n",
    "        2)\n",
    "print(f'Comment was ignored for {a}')"
   ]
  },
  {
   "cell_type": "code",
   "execution_count": 23,
   "metadata": {},
   "outputs": [
    {
     "name": "stdout",
     "output_type": "stream",
     "text": [
      "Comment was ignored for {'key1': 1, 'key2': 3}\n"
     ]
    }
   ],
   "source": [
    "a = {'key1': 1, # value for key 1\n",
    "        'key2':3}\n",
    "print(f'Comment was ignored for {a}')"
   ]
  },
  {
   "cell_type": "code",
   "execution_count": 24,
   "metadata": {},
   "outputs": [],
   "source": [
    "def my_func(a, # 1st parameter \n",
    "                        b, # 2nd parameter\n",
    "                        c): # 3rd parameter\n",
    "    print(f'Comment was ignored for {a,b,c}')"
   ]
  },
  {
   "cell_type": "code",
   "execution_count": 25,
   "metadata": {},
   "outputs": [
    {
     "name": "stdout",
     "output_type": "stream",
     "text": [
      "Comment was ignored for (10, 20, 30)\n"
     ]
    }
   ],
   "source": [
    "my_func(10,20,30)"
   ]
  },
  {
   "cell_type": "code",
   "execution_count": 27,
   "metadata": {},
   "outputs": [
    {
     "name": "stdout",
     "output_type": "stream",
     "text": [
      "Comment was ignored for (10, 20, 30)\n"
     ]
    }
   ],
   "source": [
    "my_func(10, # No problem here ;)\n",
    "                20,\n",
    "                30)"
   ]
  },
  {
   "cell_type": "code",
   "execution_count": 28,
   "metadata": {},
   "outputs": [],
   "source": [
    "# Explicit line continuation"
   ]
  },
  {
   "cell_type": "code",
   "execution_count": 29,
   "metadata": {},
   "outputs": [],
   "source": [
    "a = 10\n",
    "b = 20\n",
    "c = 30 "
   ]
  },
  {
   "cell_type": "code",
   "execution_count": 30,
   "metadata": {},
   "outputs": [
    {
     "name": "stdout",
     "output_type": "stream",
     "text": [
      "yes\n"
     ]
    }
   ],
   "source": [
    "if a >5 and b > 10 and c >20: #Sometimes this might be verrry loooong!\n",
    "    print('yes')"
   ]
  },
  {
   "cell_type": "code",
   "execution_count": 32,
   "metadata": {},
   "outputs": [
    {
     "name": "stdout",
     "output_type": "stream",
     "text": [
      "yes\n"
     ]
    }
   ],
   "source": [
    "if a>5 \\\n",
    "    and b > 10\\\n",
    "        and c >20:\n",
    "    print('yes')"
   ]
  },
  {
   "cell_type": "code",
   "execution_count": 33,
   "metadata": {},
   "outputs": [
    {
     "ename": "SyntaxError",
     "evalue": "unexpected character after line continuation character (<ipython-input-33-8b58078d61a2>, line 1)",
     "output_type": "error",
     "traceback": [
      "\u001b[1;36m  File \u001b[1;32m\"<ipython-input-33-8b58078d61a2>\"\u001b[1;36m, line \u001b[1;32m1\u001b[0m\n\u001b[1;33m    if a>5     and b > 10\\  # YOU CANNOT DO THIS!!\u001b[0m\n\u001b[1;37m                                                  ^\u001b[0m\n\u001b[1;31mSyntaxError\u001b[0m\u001b[1;31m:\u001b[0m unexpected character after line continuation character\n"
     ]
    }
   ],
   "source": [
    "if a>5 \\\n",
    "    and b > 10\\  # YOU CANNOT DO THIS!!\n",
    "        and c >20:\n",
    "    print('yes')"
   ]
  },
  {
   "cell_type": "code",
   "execution_count": 34,
   "metadata": {},
   "outputs": [
    {
     "data": {
      "text/plain": [
       "' this is a string'"
      ]
     },
     "execution_count": 34,
     "metadata": {},
     "output_type": "execute_result"
    }
   ],
   "source": [
    "a = ''' this is a string'''\n",
    "a"
   ]
  },
  {
   "cell_type": "code",
   "execution_count": 36,
   "metadata": {},
   "outputs": [
    {
     "data": {
      "text/plain": [
       "' this is \\na string      \\n'"
      ]
     },
     "execution_count": 36,
     "metadata": {},
     "output_type": "execute_result"
    }
   ],
   "source": [
    "a   = ''' this is \n",
    "a string      \n",
    "'''\n",
    "a"
   ]
  },
  {
   "cell_type": "code",
   "execution_count": 37,
   "metadata": {},
   "outputs": [],
   "source": [
    "a = ''' This is a \n",
    "                                String \n",
    "                                      that is created for demonstration\n",
    "                                                                                                              purposes'''"
   ]
  },
  {
   "cell_type": "code",
   "execution_count": 39,
   "metadata": {},
   "outputs": [
    {
     "data": {
      "text/plain": [
       "' This is a \\n                                String \\n                                      that is created for demonstration\\n                                                                                                              purposes'"
      ]
     },
     "execution_count": 39,
     "metadata": {},
     "output_type": "execute_result"
    }
   ],
   "source": [
    "a # Has spaces here as well!"
   ]
  },
  {
   "cell_type": "code",
   "execution_count": 40,
   "metadata": {},
   "outputs": [],
   "source": [
    " a=  ''' Some items \n",
    "            1. Item1\n",
    "            2. Item 2'''"
   ]
  },
  {
   "cell_type": "code",
   "execution_count": 43,
   "metadata": {},
   "outputs": [
    {
     "data": {
      "text/plain": [
       "' Some items \\n           1. Item1\\n           2. Item 2'"
      ]
     },
     "execution_count": 43,
     "metadata": {},
     "output_type": "execute_result"
    }
   ],
   "source": [
    "a # repr"
   ]
  },
  {
   "cell_type": "code",
   "execution_count": 44,
   "metadata": {},
   "outputs": [
    {
     "name": "stdout",
     "output_type": "stream",
     "text": [
      " Some items \n",
      "           1. Item1\n",
      "           2. Item 2\n"
     ]
    }
   ],
   "source": [
    "print(a)"
   ]
  },
  {
   "cell_type": "code",
   "execution_count": 51,
   "metadata": {},
   "outputs": [],
   "source": [
    "def my_func():\n",
    "    a = ''' A multi-line string\n",
    "    That is indented in the second line'''  #here is the indentation!!\n",
    "    return a "
   ]
  },
  {
   "cell_type": "code",
   "execution_count": 52,
   "metadata": {},
   "outputs": [
    {
     "data": {
      "text/plain": [
       "' A multi-line string\\n    That is indented in the second line'"
      ]
     },
     "execution_count": 52,
     "metadata": {},
     "output_type": "execute_result"
    }
   ],
   "source": [
    "my_func()"
   ]
  },
  {
   "cell_type": "markdown",
   "metadata": {},
   "source": [
    "### Identifier Names \n"
   ]
  },
  {
   "cell_type": "code",
   "execution_count": 53,
   "metadata": {},
   "outputs": [],
   "source": [
    "# They are Case sensitive\n",
    "\n",
    "#my_var \n",
    "#My_Var\n",
    "#MY_VaR \n",
    "\n",
    "#are all case sensitive"
   ]
  },
  {
   "cell_type": "code",
   "execution_count": 55,
   "metadata": {},
   "outputs": [],
   "source": [
    "#Identifiers must follow certain rules  and conventions"
   ]
  },
  {
   "cell_type": "code",
   "execution_count": 56,
   "metadata": {},
   "outputs": [],
   "source": [
    "# Must \n",
    "#start \n",
    "# With underscore ( _ ) or letter (a-z, A-Z)\n",
    "#FOLLOWED by any number of underscores (_), letters( a-z,A-Z) or digits(0-9)\n",
    "# var, my_var, index1, index _1 are legal\n",
    "# _var, __var, __it__ are legal too!"
   ]
  },
  {
   "cell_type": "code",
   "execution_count": 61,
   "metadata": {},
   "outputs": [
    {
     "name": "stdout",
     "output_type": "stream",
     "text": [
      "['False', 'None', 'True', 'and', 'as', 'assert', 'break', 'class', 'continue', 'def', 'del', 'elif', 'else', 'except', 'finally', 'for', 'from', 'global', 'if', 'import', 'in', 'is', 'lambda', 'nonlocal', 'not', 'or', 'pass', 'raise', 'return', 'try', 'while', 'with', 'yield']\n"
     ]
    }
   ],
   "source": [
    "# Connot be reserved words\n",
    "import keyword\n",
    "print(keyword.kwlist)"
   ]
  },
  {
   "cell_type": "markdown",
   "metadata": {},
   "source": [
    "#### Conventions"
   ]
  },
  {
   "cell_type": "code",
   "execution_count": 62,
   "metadata": {},
   "outputs": [],
   "source": [
    "#If variable starts with single underscore then \n",
    "# this is a convention to indicate 'internal use' or private objects\n",
    "# _my_var\n",
    "\n",
    "#It will not be imported by\n",
    "# from module import *"
   ]
  },
  {
   "cell_type": "code",
   "execution_count": 64,
   "metadata": {},
   "outputs": [],
   "source": [
    "#__my_var  # used to mangle class attributed useful in inheritence chains\n",
    "#Double underscore"
   ]
  },
  {
   "cell_type": "code",
   "execution_count": 65,
   "metadata": {},
   "outputs": [],
   "source": [
    "# __my_var__\n",
    "#These are system defined names that have a special meaning to the interpreter\n",
    "#eg __init__\n",
    "# eg2 __add__"
   ]
  },
  {
   "cell_type": "code",
   "execution_count": null,
   "metadata": {},
   "outputs": [],
   "source": []
  }
 ],
 "metadata": {
  "kernelspec": {
   "display_name": "Python 3",
   "language": "python",
   "name": "python3"
  },
  "language_info": {
   "codemirror_mode": {
    "name": "ipython",
    "version": 3
   },
   "file_extension": ".py",
   "mimetype": "text/x-python",
   "name": "python",
   "nbconvert_exporter": "python",
   "pygments_lexer": "ipython3",
   "version": "3.6.5"
  }
 },
 "nbformat": 4,
 "nbformat_minor": 2
}
